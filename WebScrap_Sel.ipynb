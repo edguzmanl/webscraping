{
  "cells": [
    {
      "cell_type": "markdown",
      "source": [
        "# <span style=\"color:#809bd8\">Programación para Análisis de Datos</span>\n",
        "\n",
        "## <span style=\"color:#809bd8\">**S30 - Evidencia de aprendizaje 1. Análisis y herramientas de extracción de datos**</span>\n",
        "\n",
        "**<span style=\"color:#809bd8\">Programa:</span>** **Ingeniería de Software y Datos**\n",
        "\n",
        "**<span style=\"color:#809bd8\">Curso:</span>** **Programación para Análisis de Datos**\n",
        "\n",
        "**<span style=\"color:#809bd8\">Grupo:</span>** **PREICA2402B020100**\n",
        "\n",
        "**<span style=\"color:#809bd8\">Profesor:</span>** **Diego Leon Zapata**\n",
        "\n",
        "**<span style=\"color:#809bd8\">Estudiante:</span>**\n",
        "- **Eduardo Guzmán Ledezma**\n",
        "\n",
        "\n",
        "**<span style=\"color:#809bd8\">Universidad:</span>** **IU Digital de Antioquia - IUDIGITAL**\n",
        "\n",
        "**<span style=\"color:#809bd8\">Fecha:</span>** **24/11/2024**"
      ],
      "metadata": {
        "id": "cLhbLY-slKXe"
      },
      "id": "cLhbLY-slKXe"
    },
    {
      "cell_type": "markdown",
      "source": [
        "**Objetivo:**\n",
        "*Aplicar la metodología scraping mediante una herramienta que permita el escaneo de información.*"
      ],
      "metadata": {
        "id": "arRTgnjel0wS"
      },
      "id": "arRTgnjel0wS"
    },
    {
      "cell_type": "markdown",
      "source": [
        "**Catálogo de cocinas (muebles) tienda en línea Alkosto Colombia**\n",
        "\n",
        "---\n",
        "\n"
      ],
      "metadata": {
        "id": "3fyxkmj0mITW"
      },
      "id": "3fyxkmj0mITW"
    },
    {
      "cell_type": "markdown",
      "source": [
        "**Web Scraping con Selenium**"
      ],
      "metadata": {
        "id": "__AuO6Xy4MsI"
      },
      "id": "__AuO6Xy4MsI"
    },
    {
      "cell_type": "code",
      "execution_count": null,
      "id": "261db616-c3bd-446e-b117-3a9df4ff2db2",
      "metadata": {
        "colab": {
          "base_uri": "https://localhost:8080/"
        },
        "collapsed": true,
        "id": "261db616-c3bd-446e-b117-3a9df4ff2db2",
        "outputId": "6d1c2cd4-485e-4507-ab7e-07092da15c02"
      },
      "outputs": [
        {
          "output_type": "stream",
          "name": "stdout",
          "text": [
            "\u001b[33m\r0% [Working]\u001b[0m\r            \rGet:1 http://security.ubuntu.com/ubuntu jammy-security InRelease [129 kB]\n",
            "\u001b[33m\r0% [Connecting to archive.ubuntu.com (185.125.190.81)] [1 InRelease 14.2 kB/129 kB 11%] [Connecting \u001b[0m\r                                                                                                    \rHit:2 https://developer.download.nvidia.com/compute/cuda/repos/ubuntu2204/x86_64  InRelease\n",
            "Hit:3 https://cloud.r-project.org/bin/linux/ubuntu jammy-cran40/ InRelease\n",
            "Hit:4 https://r2u.stat.illinois.edu/ubuntu jammy InRelease\n",
            "Hit:5 http://archive.ubuntu.com/ubuntu jammy InRelease\n",
            "Get:6 http://archive.ubuntu.com/ubuntu jammy-updates InRelease [128 kB]\n",
            "Hit:7 https://ppa.launchpadcontent.net/deadsnakes/ppa/ubuntu jammy InRelease\n",
            "Hit:8 https://ppa.launchpadcontent.net/graphics-drivers/ppa/ubuntu jammy InRelease\n",
            "Hit:9 https://ppa.launchpadcontent.net/ubuntugis/ppa/ubuntu jammy InRelease\n",
            "Hit:10 http://archive.ubuntu.com/ubuntu jammy-backports InRelease\n",
            "Fetched 257 kB in 2s (125 kB/s)\n",
            "Reading package lists... Done\n",
            "Building dependency tree... Done\n",
            "Reading state information... Done\n",
            "48 packages can be upgraded. Run 'apt list --upgradable' to see them.\n",
            "\u001b[1;33mW: \u001b[0mSkipping acquire of configured file 'main/source/Sources' as repository 'https://r2u.stat.illinois.edu/ubuntu jammy InRelease' does not seem to provide it (sources.list entry misspelt?)\u001b[0m\n",
            "Reading package lists... Done\n",
            "Building dependency tree... Done\n",
            "Reading state information... Done\n",
            "chromium-chromedriver is already the newest version (1:85.0.4183.83-0ubuntu2.22.04.1).\n",
            "0 upgraded, 0 newly installed, 0 to remove and 48 not upgraded.\n",
            "Requirement already satisfied: selenium in /usr/local/lib/python3.10/dist-packages (4.26.1)\n",
            "Requirement already satisfied: urllib3<3,>=1.26 in /usr/local/lib/python3.10/dist-packages (from urllib3[socks]<3,>=1.26->selenium) (2.2.3)\n",
            "Requirement already satisfied: trio~=0.17 in /usr/local/lib/python3.10/dist-packages (from selenium) (0.27.0)\n",
            "Requirement already satisfied: trio-websocket~=0.9 in /usr/local/lib/python3.10/dist-packages (from selenium) (0.11.1)\n",
            "Requirement already satisfied: certifi>=2021.10.8 in /usr/local/lib/python3.10/dist-packages (from selenium) (2024.8.30)\n",
            "Requirement already satisfied: typing_extensions~=4.9 in /usr/local/lib/python3.10/dist-packages (from selenium) (4.12.2)\n",
            "Requirement already satisfied: websocket-client~=1.8 in /usr/local/lib/python3.10/dist-packages (from selenium) (1.8.0)\n",
            "Requirement already satisfied: attrs>=23.2.0 in /usr/local/lib/python3.10/dist-packages (from trio~=0.17->selenium) (24.2.0)\n",
            "Requirement already satisfied: sortedcontainers in /usr/local/lib/python3.10/dist-packages (from trio~=0.17->selenium) (2.4.0)\n",
            "Requirement already satisfied: idna in /usr/local/lib/python3.10/dist-packages (from trio~=0.17->selenium) (3.10)\n",
            "Requirement already satisfied: outcome in /usr/local/lib/python3.10/dist-packages (from trio~=0.17->selenium) (1.3.0.post0)\n",
            "Requirement already satisfied: sniffio>=1.3.0 in /usr/local/lib/python3.10/dist-packages (from trio~=0.17->selenium) (1.3.1)\n",
            "Requirement already satisfied: exceptiongroup in /usr/local/lib/python3.10/dist-packages (from trio~=0.17->selenium) (1.2.2)\n",
            "Requirement already satisfied: wsproto>=0.14 in /usr/local/lib/python3.10/dist-packages (from trio-websocket~=0.9->selenium) (1.2.0)\n",
            "Requirement already satisfied: pysocks!=1.5.7,<2.0,>=1.5.6 in /usr/local/lib/python3.10/dist-packages (from urllib3[socks]<3,>=1.26->selenium) (1.7.1)\n",
            "Requirement already satisfied: h11<1,>=0.9.0 in /usr/local/lib/python3.10/dist-packages (from wsproto>=0.14->trio-websocket~=0.9->selenium) (0.14.0)\n"
          ]
        }
      ],
      "source": [
        "# Instalación de dependencias en la compu que nos presta Google\n",
        "!apt update\n",
        "!apt install chromium-chromedriver\n",
        "!pip install selenium"
      ]
    },
    {
      "cell_type": "code",
      "source": [
        "# Importación de las librerías de selenium para extracción de datos\n",
        "from selenium import webdriver\n",
        "from selenium.webdriver.common.by import By\n",
        "from selenium.common.exceptions import NoSuchElementException\n",
        "import pandas as pd"
      ],
      "metadata": {
        "id": "RCNU9p2nnvaP"
      },
      "id": "RCNU9p2nnvaP",
      "execution_count": null,
      "outputs": []
    },
    {
      "cell_type": "code",
      "source": [
        "# Gestión de permisos y memoria con resursos limitados en Google Colab\n",
        "options = webdriver.ChromeOptions()\n",
        "options.add_argument('--headless')\n",
        "options.add_argument('--no-sandbox')\n",
        "options.add_argument('--disable-dev-shm-usage')"
      ],
      "metadata": {
        "id": "7GSE1BlYyTWT"
      },
      "id": "7GSE1BlYyTWT",
      "execution_count": null,
      "outputs": []
    },
    {
      "cell_type": "code",
      "source": [
        "# Gestión del Driver de Google para gestión con Selenium en Google Colab\n",
        "driver = webdriver.Chrome(options=options)\n",
        "driver.get(\"https://www.google.com\")"
      ],
      "metadata": {
        "id": "WRG8eBipydIW"
      },
      "id": "WRG8eBipydIW",
      "execution_count": null,
      "outputs": []
    },
    {
      "cell_type": "code",
      "execution_count": null,
      "id": "e6576055-39d6-4819-8709-fe470c6dc12f",
      "metadata": {
        "id": "e6576055-39d6-4819-8709-fe470c6dc12f"
      },
      "outputs": [],
      "source": [
        "# Estableciento de la url de búsqueda para web scraping\n",
        "url = 'https://www.alkosto.com/muebles/muebles-cocina/c/BI_404_ALKOS'"
      ]
    },
    {
      "cell_type": "code",
      "execution_count": null,
      "id": "62750098-58a9-4a90-91aa-8e59fe145259",
      "metadata": {
        "id": "62750098-58a9-4a90-91aa-8e59fe145259"
      },
      "outputs": [],
      "source": [
        "# Petición a la url a través del driver instalado\n",
        "driver.get(url)"
      ]
    },
    {
      "cell_type": "code",
      "execution_count": null,
      "id": "64927af2-0046-4fd9-bee5-abb85c77a480",
      "metadata": {
        "id": "64927af2-0046-4fd9-bee5-abb85c77a480"
      },
      "outputs": [],
      "source": [
        "# Al inspeccionar la página, en su código html se describen los grupos de artículos\n",
        "# En el bloque con id = js-hits, por lo que se seleccionan los artículos de ese grupo\n",
        "# Con la propiedad CSS_SELECTOR\n",
        "\n",
        "li_elements = driver.find_elements(By.CSS_SELECTOR, '#js-hits li')"
      ]
    },
    {
      "cell_type": "code",
      "execution_count": null,
      "id": "75ace82d-9029-4aa3-9668-b561e0cd5f09",
      "metadata": {
        "id": "75ace82d-9029-4aa3-9668-b561e0cd5f09"
      },
      "outputs": [],
      "source": [
        "# Se crea un array vacío con el fin de manipular los resultados\n",
        "# obtenidos del ejercicio de obtención de datos\n",
        "data =[]"
      ]
    },
    {
      "cell_type": "code",
      "execution_count": null,
      "id": "a7d3afb3-a30b-4359-a1df-5aa16bd82217",
      "metadata": {
        "colab": {
          "base_uri": "https://localhost:8080/"
        },
        "id": "a7d3afb3-a30b-4359-a1df-5aa16bd82217",
        "outputId": "ebd0084b-4e64-424a-c3c1-6255078c07bf"
      },
      "outputs": [
        {
          "output_type": "execute_result",
          "data": {
            "text/plain": [
              "148"
            ]
          },
          "metadata": {},
          "execution_count": 40
        }
      ],
      "source": [
        "# Se verifica que se obtengan elementos de la ejecución, mostrando\n",
        "# el número de elementos obtenidos\n",
        "len(li_elements)"
      ]
    },
    {
      "cell_type": "code",
      "execution_count": null,
      "id": "9700a8bb-2169-47cc-a755-01462817553e",
      "metadata": {
        "id": "9700a8bb-2169-47cc-a755-01462817553e"
      },
      "outputs": [],
      "source": [
        "# Se recorren los elementos obtenidos, discriminando en este caso,\n",
        "# los títulos, los precios y las imágenes de los productos\n",
        "# gestionando los errores con las cláusulas try - except\n",
        "# a la matriz data\n",
        "\n",
        "for element in li_elements:\n",
        "    try:\n",
        "        titulo_element = element.find_element(By.TAG_NAME, 'h3')\n",
        "        precio_element = element.find_element(By.CLASS_NAME, 'price')\n",
        "        image_element = element.find_element(By.TAG_NAME, 'img').get_attribute(\"src\")\n",
        "        data.append({\n",
        "            'titulo':titulo_element.text,\n",
        "            'precio':precio_element.text,\n",
        "            'imagen':image_element\n",
        "        })\n",
        "    except NoSuchElementException:\n",
        "        pass\n"
      ]
    },
    {
      "cell_type": "code",
      "execution_count": null,
      "id": "e81b9794-efa1-47fe-bbb2-a8bc9d4cbe85",
      "metadata": {
        "id": "e81b9794-efa1-47fe-bbb2-a8bc9d4cbe85"
      },
      "outputs": [],
      "source": [
        "# Se transforman los datos a un data set a partir de los elementos de data\n",
        "\n",
        "df = pd.DataFrame(data)"
      ]
    },
    {
      "cell_type": "code",
      "execution_count": null,
      "id": "cea7cab5-7c85-49c1-bf7c-ad38fbae888c",
      "metadata": {
        "colab": {
          "base_uri": "https://localhost:8080/",
          "height": 743
        },
        "id": "cea7cab5-7c85-49c1-bf7c-ad38fbae888c",
        "outputId": "8772a49b-e1eb-493c-c49b-49cad6a39752"
      },
      "outputs": [
        {
          "output_type": "execute_result",
          "data": {
            "text/plain": [
              "                                              titulo precio  \\\n",
              "0         Alacena para Cocina PRACTIMAC Olivo Rovere          \n",
              "1  Mueble Superior para Cocina MADERKIT Prime 150...          \n",
              "2  Cocina Integral 1.80 Metros Incluye Mesón Soco...          \n",
              "3      Alacena para Cocina PRACTIMAC Alicante Rovere          \n",
              "4      Alacena para Cocina PRACTIMAC Alicante Blanco          \n",
              "\n",
              "                                              imagen  \n",
              "0  https://www.alkosto.com/medias/7706112711614-0...  \n",
              "1  https://www.alkosto.com/medias/7706112258973-0...  \n",
              "2  https://www.alkosto.com/medias/7706112226170-0...  \n",
              "3  https://www.alkosto.com/medias/7707070846783-0...  \n",
              "4  https://www.alkosto.com/medias/7707070843157-0...  "
            ],
            "text/html": [
              "\n",
              "  <div id=\"df-d13a34bd-4c03-44ae-96b9-5c58807f7c27\" class=\"colab-df-container\">\n",
              "    <div>\n",
              "<style scoped>\n",
              "    .dataframe tbody tr th:only-of-type {\n",
              "        vertical-align: middle;\n",
              "    }\n",
              "\n",
              "    .dataframe tbody tr th {\n",
              "        vertical-align: top;\n",
              "    }\n",
              "\n",
              "    .dataframe thead th {\n",
              "        text-align: right;\n",
              "    }\n",
              "</style>\n",
              "<table border=\"1\" class=\"dataframe\">\n",
              "  <thead>\n",
              "    <tr style=\"text-align: right;\">\n",
              "      <th></th>\n",
              "      <th>titulo</th>\n",
              "      <th>precio</th>\n",
              "      <th>imagen</th>\n",
              "    </tr>\n",
              "  </thead>\n",
              "  <tbody>\n",
              "    <tr>\n",
              "      <th>0</th>\n",
              "      <td>Alacena para Cocina PRACTIMAC Olivo Rovere</td>\n",
              "      <td></td>\n",
              "      <td>https://www.alkosto.com/medias/7706112711614-0...</td>\n",
              "    </tr>\n",
              "    <tr>\n",
              "      <th>1</th>\n",
              "      <td>Mueble Superior para Cocina MADERKIT Prime 150...</td>\n",
              "      <td></td>\n",
              "      <td>https://www.alkosto.com/medias/7706112258973-0...</td>\n",
              "    </tr>\n",
              "    <tr>\n",
              "      <th>2</th>\n",
              "      <td>Cocina Integral 1.80 Metros Incluye Mesón Soco...</td>\n",
              "      <td></td>\n",
              "      <td>https://www.alkosto.com/medias/7706112226170-0...</td>\n",
              "    </tr>\n",
              "    <tr>\n",
              "      <th>3</th>\n",
              "      <td>Alacena para Cocina PRACTIMAC Alicante Rovere</td>\n",
              "      <td></td>\n",
              "      <td>https://www.alkosto.com/medias/7707070846783-0...</td>\n",
              "    </tr>\n",
              "    <tr>\n",
              "      <th>4</th>\n",
              "      <td>Alacena para Cocina PRACTIMAC Alicante Blanco</td>\n",
              "      <td></td>\n",
              "      <td>https://www.alkosto.com/medias/7707070843157-0...</td>\n",
              "    </tr>\n",
              "  </tbody>\n",
              "</table>\n",
              "</div>\n",
              "    <div class=\"colab-df-buttons\">\n",
              "\n",
              "  <div class=\"colab-df-container\">\n",
              "    <button class=\"colab-df-convert\" onclick=\"convertToInteractive('df-d13a34bd-4c03-44ae-96b9-5c58807f7c27')\"\n",
              "            title=\"Convert this dataframe to an interactive table.\"\n",
              "            style=\"display:none;\">\n",
              "\n",
              "  <svg xmlns=\"http://www.w3.org/2000/svg\" height=\"24px\" viewBox=\"0 -960 960 960\">\n",
              "    <path d=\"M120-120v-720h720v720H120Zm60-500h600v-160H180v160Zm220 220h160v-160H400v160Zm0 220h160v-160H400v160ZM180-400h160v-160H180v160Zm440 0h160v-160H620v160ZM180-180h160v-160H180v160Zm440 0h160v-160H620v160Z\"/>\n",
              "  </svg>\n",
              "    </button>\n",
              "\n",
              "  <style>\n",
              "    .colab-df-container {\n",
              "      display:flex;\n",
              "      gap: 12px;\n",
              "    }\n",
              "\n",
              "    .colab-df-convert {\n",
              "      background-color: #E8F0FE;\n",
              "      border: none;\n",
              "      border-radius: 50%;\n",
              "      cursor: pointer;\n",
              "      display: none;\n",
              "      fill: #1967D2;\n",
              "      height: 32px;\n",
              "      padding: 0 0 0 0;\n",
              "      width: 32px;\n",
              "    }\n",
              "\n",
              "    .colab-df-convert:hover {\n",
              "      background-color: #E2EBFA;\n",
              "      box-shadow: 0px 1px 2px rgba(60, 64, 67, 0.3), 0px 1px 3px 1px rgba(60, 64, 67, 0.15);\n",
              "      fill: #174EA6;\n",
              "    }\n",
              "\n",
              "    .colab-df-buttons div {\n",
              "      margin-bottom: 4px;\n",
              "    }\n",
              "\n",
              "    [theme=dark] .colab-df-convert {\n",
              "      background-color: #3B4455;\n",
              "      fill: #D2E3FC;\n",
              "    }\n",
              "\n",
              "    [theme=dark] .colab-df-convert:hover {\n",
              "      background-color: #434B5C;\n",
              "      box-shadow: 0px 1px 3px 1px rgba(0, 0, 0, 0.15);\n",
              "      filter: drop-shadow(0px 1px 2px rgba(0, 0, 0, 0.3));\n",
              "      fill: #FFFFFF;\n",
              "    }\n",
              "  </style>\n",
              "\n",
              "    <script>\n",
              "      const buttonEl =\n",
              "        document.querySelector('#df-d13a34bd-4c03-44ae-96b9-5c58807f7c27 button.colab-df-convert');\n",
              "      buttonEl.style.display =\n",
              "        google.colab.kernel.accessAllowed ? 'block' : 'none';\n",
              "\n",
              "      async function convertToInteractive(key) {\n",
              "        const element = document.querySelector('#df-d13a34bd-4c03-44ae-96b9-5c58807f7c27');\n",
              "        const dataTable =\n",
              "          await google.colab.kernel.invokeFunction('convertToInteractive',\n",
              "                                                    [key], {});\n",
              "        if (!dataTable) return;\n",
              "\n",
              "        const docLinkHtml = 'Like what you see? Visit the ' +\n",
              "          '<a target=\"_blank\" href=https://colab.research.google.com/notebooks/data_table.ipynb>data table notebook</a>'\n",
              "          + ' to learn more about interactive tables.';\n",
              "        element.innerHTML = '';\n",
              "        dataTable['output_type'] = 'display_data';\n",
              "        await google.colab.output.renderOutput(dataTable, element);\n",
              "        const docLink = document.createElement('div');\n",
              "        docLink.innerHTML = docLinkHtml;\n",
              "        element.appendChild(docLink);\n",
              "      }\n",
              "    </script>\n",
              "  </div>\n",
              "\n",
              "\n",
              "<div id=\"df-c8245dae-b725-4eb3-9ec1-b2f713e0701e\">\n",
              "  <button class=\"colab-df-quickchart\" onclick=\"quickchart('df-c8245dae-b725-4eb3-9ec1-b2f713e0701e')\"\n",
              "            title=\"Suggest charts\"\n",
              "            style=\"display:none;\">\n",
              "\n",
              "<svg xmlns=\"http://www.w3.org/2000/svg\" height=\"24px\"viewBox=\"0 0 24 24\"\n",
              "     width=\"24px\">\n",
              "    <g>\n",
              "        <path d=\"M19 3H5c-1.1 0-2 .9-2 2v14c0 1.1.9 2 2 2h14c1.1 0 2-.9 2-2V5c0-1.1-.9-2-2-2zM9 17H7v-7h2v7zm4 0h-2V7h2v10zm4 0h-2v-4h2v4z\"/>\n",
              "    </g>\n",
              "</svg>\n",
              "  </button>\n",
              "\n",
              "<style>\n",
              "  .colab-df-quickchart {\n",
              "      --bg-color: #E8F0FE;\n",
              "      --fill-color: #1967D2;\n",
              "      --hover-bg-color: #E2EBFA;\n",
              "      --hover-fill-color: #174EA6;\n",
              "      --disabled-fill-color: #AAA;\n",
              "      --disabled-bg-color: #DDD;\n",
              "  }\n",
              "\n",
              "  [theme=dark] .colab-df-quickchart {\n",
              "      --bg-color: #3B4455;\n",
              "      --fill-color: #D2E3FC;\n",
              "      --hover-bg-color: #434B5C;\n",
              "      --hover-fill-color: #FFFFFF;\n",
              "      --disabled-bg-color: #3B4455;\n",
              "      --disabled-fill-color: #666;\n",
              "  }\n",
              "\n",
              "  .colab-df-quickchart {\n",
              "    background-color: var(--bg-color);\n",
              "    border: none;\n",
              "    border-radius: 50%;\n",
              "    cursor: pointer;\n",
              "    display: none;\n",
              "    fill: var(--fill-color);\n",
              "    height: 32px;\n",
              "    padding: 0;\n",
              "    width: 32px;\n",
              "  }\n",
              "\n",
              "  .colab-df-quickchart:hover {\n",
              "    background-color: var(--hover-bg-color);\n",
              "    box-shadow: 0 1px 2px rgba(60, 64, 67, 0.3), 0 1px 3px 1px rgba(60, 64, 67, 0.15);\n",
              "    fill: var(--button-hover-fill-color);\n",
              "  }\n",
              "\n",
              "  .colab-df-quickchart-complete:disabled,\n",
              "  .colab-df-quickchart-complete:disabled:hover {\n",
              "    background-color: var(--disabled-bg-color);\n",
              "    fill: var(--disabled-fill-color);\n",
              "    box-shadow: none;\n",
              "  }\n",
              "\n",
              "  .colab-df-spinner {\n",
              "    border: 2px solid var(--fill-color);\n",
              "    border-color: transparent;\n",
              "    border-bottom-color: var(--fill-color);\n",
              "    animation:\n",
              "      spin 1s steps(1) infinite;\n",
              "  }\n",
              "\n",
              "  @keyframes spin {\n",
              "    0% {\n",
              "      border-color: transparent;\n",
              "      border-bottom-color: var(--fill-color);\n",
              "      border-left-color: var(--fill-color);\n",
              "    }\n",
              "    20% {\n",
              "      border-color: transparent;\n",
              "      border-left-color: var(--fill-color);\n",
              "      border-top-color: var(--fill-color);\n",
              "    }\n",
              "    30% {\n",
              "      border-color: transparent;\n",
              "      border-left-color: var(--fill-color);\n",
              "      border-top-color: var(--fill-color);\n",
              "      border-right-color: var(--fill-color);\n",
              "    }\n",
              "    40% {\n",
              "      border-color: transparent;\n",
              "      border-right-color: var(--fill-color);\n",
              "      border-top-color: var(--fill-color);\n",
              "    }\n",
              "    60% {\n",
              "      border-color: transparent;\n",
              "      border-right-color: var(--fill-color);\n",
              "    }\n",
              "    80% {\n",
              "      border-color: transparent;\n",
              "      border-right-color: var(--fill-color);\n",
              "      border-bottom-color: var(--fill-color);\n",
              "    }\n",
              "    90% {\n",
              "      border-color: transparent;\n",
              "      border-bottom-color: var(--fill-color);\n",
              "    }\n",
              "  }\n",
              "</style>\n",
              "\n",
              "  <script>\n",
              "    async function quickchart(key) {\n",
              "      const quickchartButtonEl =\n",
              "        document.querySelector('#' + key + ' button');\n",
              "      quickchartButtonEl.disabled = true;  // To prevent multiple clicks.\n",
              "      quickchartButtonEl.classList.add('colab-df-spinner');\n",
              "      try {\n",
              "        const charts = await google.colab.kernel.invokeFunction(\n",
              "            'suggestCharts', [key], {});\n",
              "      } catch (error) {\n",
              "        console.error('Error during call to suggestCharts:', error);\n",
              "      }\n",
              "      quickchartButtonEl.classList.remove('colab-df-spinner');\n",
              "      quickchartButtonEl.classList.add('colab-df-quickchart-complete');\n",
              "    }\n",
              "    (() => {\n",
              "      let quickchartButtonEl =\n",
              "        document.querySelector('#df-c8245dae-b725-4eb3-9ec1-b2f713e0701e button');\n",
              "      quickchartButtonEl.style.display =\n",
              "        google.colab.kernel.accessAllowed ? 'block' : 'none';\n",
              "    })();\n",
              "  </script>\n",
              "</div>\n",
              "\n",
              "    </div>\n",
              "  </div>\n"
            ],
            "application/vnd.google.colaboratory.intrinsic+json": {
              "type": "dataframe",
              "variable_name": "df",
              "summary": "{\n  \"name\": \"df\",\n  \"rows\": 25,\n  \"fields\": [\n    {\n      \"column\": \"titulo\",\n      \"properties\": {\n        \"dtype\": \"string\",\n        \"num_unique_values\": 25,\n        \"samples\": [\n          \"Mueble Superior para Cocina MADERKIT Prime 120cm Gales-Wengue\",\n          \"Alacena para Cocina PRACTIMAC Log Duna\",\n          \"Alacena para Cocina PRACTIMAC Olivo Rovere\"\n        ],\n        \"semantic_type\": \"\",\n        \"description\": \"\"\n      }\n    },\n    {\n      \"column\": \"precio\",\n      \"properties\": {\n        \"dtype\": \"object\",\n        \"num_unique_values\": 1,\n        \"samples\": [\n          \"\"\n        ],\n        \"semantic_type\": \"\",\n        \"description\": \"\"\n      }\n    },\n    {\n      \"column\": \"imagen\",\n      \"properties\": {\n        \"dtype\": \"string\",\n        \"num_unique_values\": 25,\n        \"samples\": [\n          \"https://www.alkosto.com/medias/7706112606491-001-310Wx310H?context=bWFzdGVyfGltYWdlc3w0Mzk0fGltYWdlL3dlYnB8YUdZMkwyaGpaaTh4TkRNMU5qY3pNVE0yTXpNMU9DODNOekEyTVRFeU5qQTJORGt4WHpBd01WOHpNVEJYZURNeE1FZ3xjMjgzZjk1NTRlMTYwNTAzMWY0NmMxMGIwZmMxZWEwZjZjODM3ZTZlYWU4MmNkMGY2NTBlNDE1ZWViYTJjZjU2\"\n        ],\n        \"semantic_type\": \"\",\n        \"description\": \"\"\n      }\n    }\n  ]\n}"
            }
          },
          "metadata": {},
          "execution_count": 43
        }
      ],
      "source": [
        "# Se verifican los primeros cinco registros obtenidos con el atributo head()\n",
        "df.head()"
      ]
    },
    {
      "cell_type": "code",
      "execution_count": null,
      "id": "a6dcac50-399a-4b04-9383-a042ce1c176e",
      "metadata": {
        "id": "a6dcac50-399a-4b04-9383-a042ce1c176e"
      },
      "outputs": [],
      "source": [
        "# Se exportan los datos obtenidos a un archivo csv\n",
        "df.to_csv('muebles.csv')"
      ]
    },
    {
      "cell_type": "code",
      "execution_count": null,
      "id": "b4d8d0de-0a51-4786-974d-30c0197d4c89",
      "metadata": {
        "id": "b4d8d0de-0a51-4786-974d-30c0197d4c89"
      },
      "outputs": [],
      "source": [
        "# Se cierra la sesión del driver inicializado en google chrome como forma\n",
        "# de gestionar recursos\n",
        "driver.quit()"
      ]
    }
  ],
  "metadata": {
    "kernelspec": {
      "display_name": "Python 3 (ipykernel)",
      "language": "python",
      "name": "python3"
    },
    "language_info": {
      "codemirror_mode": {
        "name": "ipython",
        "version": 3
      },
      "file_extension": ".py",
      "mimetype": "text/x-python",
      "name": "python",
      "nbconvert_exporter": "python",
      "pygments_lexer": "ipython3",
      "version": "3.12.7"
    },
    "colab": {
      "provenance": []
    }
  },
  "nbformat": 4,
  "nbformat_minor": 5
}